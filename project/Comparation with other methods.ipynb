{
  "nbformat": 4,
  "nbformat_minor": 0,
  "metadata": {
    "kernelspec": {
      "display_name": "Python 3",
      "language": "python",
      "name": "python3"
    },
    "language_info": {
      "name": "python",
      "version": "3.6.6",
      "mimetype": "text/x-python",
      "codemirror_mode": {
        "name": "ipython",
        "version": 3
      },
      "pygments_lexer": "ipython3",
      "nbconvert_exporter": "python",
      "file_extension": ".py"
    },
    "colab": {
      "name": "Simple and Easy Aprroach using LSTM .ipynb",
      "provenance": [],
      "collapsed_sections": []
    }
  },
  "cells": [
    {
      "cell_type": "markdown",
      "metadata": {
        "_uuid": "7e5b13f63519b7d38eaac0c06ffd5793e0a43eab",
        "id": "V4KG_WMQmsnu",
        "colab_type": "text"
      },
      "source": [
        "Compare LSTM with other methods: CNN, MLP, CNN-LSTM"
      ]
    },
    {
      "cell_type": "code",
      "metadata": {
        "_cell_guid": "79c7e3d0-c299-4dcb-8224-4455121ee9b0",
        "_uuid": "d629ff2d2480ee46fbb7e2d37f6b5fab8052498a",
        "trusted": true,
        "id": "VQmks1KZmsnw",
        "colab_type": "code",
        "colab": {}
      },
      "source": [
        "import numpy as np\n",
        "import pandas as pd \n",
        "import os"
      ],
      "execution_count": 0,
      "outputs": []
    },
    {
      "cell_type": "code",
      "metadata": {
        "trusted": true,
        "_uuid": "f63e065519f029cfc2c0e9580fb2e95a146ef0d5",
        "id": "jqSsFkihmsny",
        "colab_type": "code",
        "colab": {}
      },
      "source": [
        "#loading data \n",
        "os.listdir('../input')\n",
        "sales_data = pd.read_csv('../input/sales_train.csv')\n",
        "item_cat = pd.read_csv('../input/item_categories.csv')\n",
        "items = pd.read_csv('../input/items.csv')\n",
        "shops = pd.read_csv('../input/shops.csv')\n",
        "sample_submission = pd.read_csv('../input/sample_submission.csv')\n",
        "test_data = pd.read_csv('../input/test.csv')\n"
      ],
      "execution_count": 0,
      "outputs": []
    },
    {
      "cell_type": "code",
      "metadata": {
        "trusted": true,
        "_uuid": "4f01c334c611aa85639105835ae6c12968e5f9ab",
        "id": "KYUjxAl1msn0",
        "colab_type": "code",
        "colab": {}
      },
      "source": [
        "def basic_eda(df):\n",
        "    print(\"----------TOP 5 RECORDS--------\")\n",
        "    print(df.head(5))\n",
        "    print(\"----------INFO-----------------\")\n",
        "    print(df.info())\n",
        "    print(\"----------Describe-------------\")\n",
        "    print(df.describe())\n",
        "    print(\"----------Columns--------------\")\n",
        "    print(df.columns)\n",
        "    print(\"----------Data Types-----------\")\n",
        "    print(df.dtypes)\n",
        "    print(\"-------Missing Values----------\")\n",
        "    print(df.isnull().sum())\n",
        "    print(\"-------NULL values-------------\")\n",
        "    print(df.isna().sum())\n",
        "    print(\"-----Shape Of Data-------------\")\n",
        "    print(df.shape)\n",
        "    \n",
        "    "
      ],
      "execution_count": 0,
      "outputs": []
    },
    {
      "cell_type": "code",
      "metadata": {
        "trusted": true,
        "_uuid": "40841bde3a83799519bf695f361a62fe03d9e4f1",
        "id": "sJtJVzltmsn2",
        "colab_type": "code",
        "colab": {}
      },
      "source": [
        "#Litle bit of exploration of data\n",
        "\n",
        "print(\"=============================Sales Data=============================\")\n",
        "basic_eda(sales_data)\n",
        "print(\"=============================Test data=============================\")\n",
        "basic_eda(test_data)\n",
        "print(\"=============================Item Categories=============================\")\n",
        "basic_eda(item_cat)\n",
        "print(\"=============================Items=============================\")\n",
        "basic_eda(items)\n",
        "print(\"=============================Shops=============================\")\n",
        "basic_eda(shops)\n",
        "print(\"=============================Sample Submission=============================\")\n",
        "basic_eda(sample_submission)\n",
        "\n"
      ],
      "execution_count": 0,
      "outputs": []
    },
    {
      "cell_type": "code",
      "metadata": {
        "trusted": true,
        "_uuid": "aa425faed80de06ea817c0bab179e47e33a1aa57",
        "id": "4ORPqe-vmsn4",
        "colab_type": "code",
        "colab": {}
      },
      "source": [
        "\n",
        "sales_data['date'] = pd.to_datetime(sales_data['date'],format = '%d.%m.%Y')"
      ],
      "execution_count": 0,
      "outputs": []
    },
    {
      "cell_type": "code",
      "metadata": {
        "trusted": true,
        "_uuid": "0f919596e10dd4adafb8825f2c0d42b8c8ddd07a",
        "id": "MXWN7sgRmsn5",
        "colab_type": "code",
        "colab": {}
      },
      "source": [
        "\n",
        "dataset = sales_data.pivot_table(index = ['shop_id','item_id'],values = ['item_cnt_day'],columns = ['date_block_num'],fill_value = 0,aggfunc='sum')\n"
      ],
      "execution_count": 0,
      "outputs": []
    },
    {
      "cell_type": "code",
      "metadata": {
        "trusted": true,
        "_uuid": "2ab7ea5328f337d2d90477215045bcdd5b3a289c",
        "id": "8PiG6muEmsn7",
        "colab_type": "code",
        "colab": {}
      },
      "source": [
        "dataset.reset_index(inplace = True)"
      ],
      "execution_count": 0,
      "outputs": []
    },
    {
      "cell_type": "code",
      "metadata": {
        "trusted": true,
        "_uuid": "efe0d2b799958be1ed8273ff21b641659671036b",
        "id": "LuE8KH9kmsn9",
        "colab_type": "code",
        "colab": {}
      },
      "source": [
        "dataset.head()\n",
        "dataset.shape"
      ],
      "execution_count": 0,
      "outputs": []
    },
    {
      "cell_type": "code",
      "metadata": {
        "trusted": true,
        "_uuid": "6d3f8cddfa21cd9b07ba1f6d6f243632050a3d07",
        "id": "I3iYMgfvmsn_",
        "colab_type": "code",
        "colab": {}
      },
      "source": [
        "\n",
        "dataset = pd.merge(test_data,dataset,on = ['item_id','shop_id'],how = 'left')"
      ],
      "execution_count": 0,
      "outputs": []
    },
    {
      "cell_type": "code",
      "metadata": {
        "trusted": true,
        "_uuid": "5e8e4c20cdeda9487557f5570461358d919bab72",
        "id": "bXua1WIEmsoB",
        "colab_type": "code",
        "colab": {}
      },
      "source": [
        "\n",
        "dataset.fillna(0,inplace = True)\n",
        "dataset.head()"
      ],
      "execution_count": 0,
      "outputs": []
    },
    {
      "cell_type": "code",
      "metadata": {
        "trusted": true,
        "_uuid": "1e16316986055e62840caf762d2dc0cde3e49271",
        "id": "HCJ9w6IEmsoD",
        "colab_type": "code",
        "colab": {}
      },
      "source": [
        "dataset.drop(['shop_id','item_id','ID'],inplace = True, axis = 1)\n",
        "dataset.head()"
      ],
      "execution_count": 0,
      "outputs": []
    },
    {
      "cell_type": "code",
      "metadata": {
        "trusted": true,
        "id": "2T8icMdpmsoH",
        "colab_type": "code",
        "colab": {}
      },
      "source": [
        "dataset.shape"
      ],
      "execution_count": 0,
      "outputs": []
    },
    {
      "cell_type": "code",
      "metadata": {
        "trusted": true,
        "_uuid": "dc7ca752bc9f265b71861a72499aec3dbcc28dfb",
        "id": "TwBVmVYzmsoK",
        "colab_type": "code",
        "colab": {}
      },
      "source": [
        "X_train = np.expand_dims(dataset.values[:,:-1],axis = 2)\n",
        "y_train = dataset.values[:,-1:]\n",
        "\n",
        "X_test = np.expand_dims(dataset.values[:,1:],axis = 2)\n",
        "print(X_train.shape,y_train.shape,X_test.shape)\n"
      ],
      "execution_count": 0,
      "outputs": []
    },
    {
      "cell_type": "code",
      "metadata": {
        "trusted": true,
        "_uuid": "dba3a0a291adce5f2146455fdb670996224aad70",
        "id": "rFtV25ECmsoM",
        "colab_type": "code",
        "colab": {}
      },
      "source": [
        "from keras.models import Sequential\n",
        "from keras.layers import LSTM,Dense,Dropout"
      ],
      "execution_count": 0,
      "outputs": []
    },
    {
      "cell_type": "code",
      "metadata": {
        "trusted": true,
        "id": "K7C_nO_3msoN",
        "colab_type": "code",
        "colab": {}
      },
      "source": [
        "import warnings\n",
        "import numpy as np\n",
        "import pandas as pd\n",
        "import matplotlib.pyplot as plt\n",
        "from keras import optimizers\n",
        "from keras.utils import plot_model\n",
        "from keras.models import Sequential, Model\n",
        "from keras.layers.convolutional import Conv1D, MaxPooling1D\n",
        "from keras.layers import Dense, LSTM, RepeatVector, TimeDistributed, Flatten\n",
        "from sklearn.metrics import mean_squared_error\n",
        "from sklearn.model_selection import train_test_split\n",
        "#import plotly.plotly as py\n",
        "import plotly.graph_objs as go\n",
        "from plotly.offline import init_notebook_mode, iplot"
      ],
      "execution_count": 0,
      "outputs": []
    },
    {
      "cell_type": "code",
      "metadata": {
        "trusted": true,
        "id": "ZxK-nBLCmsoP",
        "colab_type": "code",
        "colab": {}
      },
      "source": [
        "epochs = 40\n",
        "batch = 256\n",
        "lr = 0.0003\n",
        "adam = optimizers.Adam(lr)"
      ],
      "execution_count": 0,
      "outputs": []
    },
    {
      "cell_type": "code",
      "metadata": {
        "trusted": true,
        "id": "qXvwOoesmsoQ",
        "colab_type": "code",
        "colab": {}
      },
      "source": [
        "X_train_mlp = dataset.values[:,:-1]\n",
        "y_train_mlp = dataset.values[:,-1:]\n",
        "\n",
        "X_test_mlp = dataset.values[:,1:]\n",
        "\n",
        "print(X_train_mlp.shape,y_train_mlp.shape,X_test_mlp.shape)"
      ],
      "execution_count": 0,
      "outputs": []
    },
    {
      "cell_type": "code",
      "metadata": {
        "trusted": true,
        "id": "KvTDa8hrmsoS",
        "colab_type": "code",
        "colab": {}
      },
      "source": [
        "model_mlp = Sequential()\n",
        "model_mlp.add(Dense(100, activation='relu', input_dim=X_train_mlp.shape[1]))\n",
        "model_mlp.add(Dense(1))\n",
        "model_mlp.compile(loss='mse', optimizer=adam)\n",
        "model_mlp.summary()"
      ],
      "execution_count": 0,
      "outputs": []
    },
    {
      "cell_type": "code",
      "metadata": {
        "trusted": true,
        "id": "v9hbzcyqmsoU",
        "colab_type": "code",
        "colab": {}
      },
      "source": [
        "X_train_mlp.shape"
      ],
      "execution_count": 0,
      "outputs": []
    },
    {
      "cell_type": "code",
      "metadata": {
        "trusted": true,
        "id": "6nwgiDl6msoX",
        "colab_type": "code",
        "colab": {}
      },
      "source": [
        "mlp_history = model_mlp.fit(X_train_mlp,y_train_mlp,batch_size = 4096,epochs = 10)"
      ],
      "execution_count": 0,
      "outputs": []
    },
    {
      "cell_type": "code",
      "metadata": {
        "trusted": true,
        "id": "Ul6nbSxymsoZ",
        "colab_type": "code",
        "colab": {}
      },
      "source": [
        "submission_mlp = model_mlp.predict(X_test_mlp)"
      ],
      "execution_count": 0,
      "outputs": []
    },
    {
      "cell_type": "code",
      "metadata": {
        "trusted": true,
        "id": "Z3xHuuhimsob",
        "colab_type": "code",
        "colab": {}
      },
      "source": [
        "submission_mlp"
      ],
      "execution_count": 0,
      "outputs": []
    },
    {
      "cell_type": "code",
      "metadata": {
        "trusted": true,
        "id": "6GjKBHremsoc",
        "colab_type": "code",
        "colab": {}
      },
      "source": [
        "submission_mlp = submission_mlp.clip(0,20)\n",
        "submission_mlp_csv = pd.DataFrame({'ID':test_data['ID'],'item_cnt_month':submission_mlp.ravel()})\n",
        "\n",
        "submission_mlp_csv.to_csv('sub_mlp.csv',index = False)\n"
      ],
      "execution_count": 0,
      "outputs": []
    },
    {
      "cell_type": "markdown",
      "metadata": {
        "id": "CKQ6FZV4msoe",
        "colab_type": "text"
      },
      "source": [
        "CNN"
      ]
    },
    {
      "cell_type": "code",
      "metadata": {
        "trusted": true,
        "id": "yeNawV5Cmsoe",
        "colab_type": "code",
        "colab": {}
      },
      "source": [
        "print(X_train.shape,y_train.shape,X_test.shape)"
      ],
      "execution_count": 0,
      "outputs": []
    },
    {
      "cell_type": "code",
      "metadata": {
        "trusted": true,
        "id": "UtWOv3pbmsof",
        "colab_type": "code",
        "colab": {}
      },
      "source": [
        "model_cnn = Sequential()\n",
        "model_cnn.add(Conv1D(filters=64, kernel_size=2, activation='relu', input_shape=(X_train.shape[1], X_train.shape[2])))\n",
        "model_cnn.add(MaxPooling1D(pool_size=2))\n",
        "model_cnn.add(Flatten())\n",
        "model_cnn.add(Dense(50, activation='relu'))\n",
        "model_cnn.add(Dense(1))\n",
        "model_cnn.compile(loss='mse', optimizer=adam)\n",
        "model_cnn.summary()"
      ],
      "execution_count": 0,
      "outputs": []
    },
    {
      "cell_type": "code",
      "metadata": {
        "trusted": true,
        "id": "I4ggbK91msoh",
        "colab_type": "code",
        "colab": {}
      },
      "source": [
        "cnn_history = model_cnn.fit(X_train, y_train,batch_size = 4096,epochs = 10)"
      ],
      "execution_count": 0,
      "outputs": []
    },
    {
      "cell_type": "code",
      "metadata": {
        "trusted": true,
        "id": "I-Q5Xp2xmsoi",
        "colab_type": "code",
        "colab": {}
      },
      "source": [
        "submission_cnn = model_cnn.predict(X_test)\n"
      ],
      "execution_count": 0,
      "outputs": []
    },
    {
      "cell_type": "code",
      "metadata": {
        "trusted": true,
        "id": "RRNA4TJmmsok",
        "colab_type": "code",
        "colab": {}
      },
      "source": [
        "submission_cnn"
      ],
      "execution_count": 0,
      "outputs": []
    },
    {
      "cell_type": "code",
      "metadata": {
        "trusted": true,
        "id": "YG4uSjrAmsol",
        "colab_type": "code",
        "colab": {}
      },
      "source": [
        "submission_cnn = submission_cnn.clip(0,20)\n",
        "# creating dataframe with required columns \n",
        "submission_cnn_csv = pd.DataFrame({'ID':test_data['ID'],'item_cnt_month':submission_cnn.ravel()})\n",
        "\n",
        "# creating csv file from dataframe\n",
        "submission_cnn_csv.to_csv('sub_cnn.csv',index = False)"
      ],
      "execution_count": 0,
      "outputs": []
    },
    {
      "cell_type": "code",
      "metadata": {
        "trusted": true,
        "id": "RM9iHmtomson",
        "colab_type": "code",
        "colab": {}
      },
      "source": [
        "submission_cnn_csv.head()"
      ],
      "execution_count": 0,
      "outputs": []
    },
    {
      "cell_type": "markdown",
      "metadata": {
        "id": "EBzele0hmsop",
        "colab_type": "text"
      },
      "source": [
        "LSTM"
      ]
    },
    {
      "cell_type": "code",
      "metadata": {
        "trusted": true,
        "id": "kT4qcWtBmsop",
        "colab_type": "code",
        "colab": {}
      },
      "source": [
        "model_lstm = Sequential()\n",
        "model_lstm.add(LSTM(50, activation='relu', input_shape=(X_train.shape[1], X_train.shape[2])))\n",
        "model_lstm.add(Dropout(0.4))\n",
        "model_lstm.add(Dense(1))\n",
        "model_lstm.compile(loss='mse', optimizer=adam)\n",
        "model_lstm.summary()"
      ],
      "execution_count": 0,
      "outputs": []
    },
    {
      "cell_type": "code",
      "metadata": {
        "trusted": true,
        "id": "uPD5rlrRmsor",
        "colab_type": "code",
        "colab": {}
      },
      "source": [
        "model_lstm.fit(X_train,y_train,batch_size = 4096,epochs = 50)"
      ],
      "execution_count": 0,
      "outputs": []
    },
    {
      "cell_type": "code",
      "metadata": {
        "trusted": true,
        "id": "NLjHMrOcmsos",
        "colab_type": "code",
        "colab": {}
      },
      "source": [
        "submission_lstm = model_lstm.predict(X_test)"
      ],
      "execution_count": 0,
      "outputs": []
    },
    {
      "cell_type": "code",
      "metadata": {
        "trusted": true,
        "id": "-_nebSx6msot",
        "colab_type": "code",
        "colab": {}
      },
      "source": [
        "submission_lstm = submission_lstm.clip(0,20)\n",
        "submission_lstm_csv = pd.DataFrame({'ID':test_data['ID'],'item_cnt_month':submission_lstm.ravel()})\n",
        "\n",
        "# creating csv file from dataframe\n",
        "submission_lstm_csv.to_csv('sub_lstm.csv',index = False)"
      ],
      "execution_count": 0,
      "outputs": []
    },
    {
      "cell_type": "markdown",
      "metadata": {
        "id": "0Go9mGddmsou",
        "colab_type": "text"
      },
      "source": [
        "CNN-LSTM on train and validation"
      ]
    },
    {
      "cell_type": "code",
      "metadata": {
        "trusted": true,
        "id": "GccBc9qLmsov",
        "colab_type": "code",
        "colab": {}
      },
      "source": [
        "\n",
        "X_test.shape"
      ],
      "execution_count": 0,
      "outputs": []
    },
    {
      "cell_type": "code",
      "metadata": {
        "trusted": true,
        "id": "E18Y3lOWmsox",
        "colab_type": "code",
        "colab": {}
      },
      "source": [
        "subsequences = 3\n",
        "timesteps = X_train.shape[1]//subsequences\n",
        "X_train_series_sub = X_train.reshape((X_train.shape[0], subsequences, timesteps, 1))\n",
        "X_test_series_sub = X_test.reshape((X_test.shape[0], subsequences, timesteps, 1))"
      ],
      "execution_count": 0,
      "outputs": []
    },
    {
      "cell_type": "code",
      "metadata": {
        "trusted": true,
        "id": "KApd_NdQmsoy",
        "colab_type": "code",
        "colab": {}
      },
      "source": [
        "\n",
        "X_test_series_sub.shape"
      ],
      "execution_count": 0,
      "outputs": []
    },
    {
      "cell_type": "code",
      "metadata": {
        "trusted": true,
        "id": "s7hGRzGbmso0",
        "colab_type": "code",
        "colab": {}
      },
      "source": [
        "\n",
        "model_cnn_lstm = Sequential()\n",
        "model_cnn_lstm.add(TimeDistributed(Conv1D(filters=64, kernel_size=1, activation='relu'), input_shape=(None, X_train_series_sub.shape[2], X_train_series_sub.shape[3])))\n",
        "model_cnn_lstm.add(TimeDistributed(MaxPooling1D(pool_size=2)))\n",
        "model_cnn_lstm.add(TimeDistributed(Flatten()))\n",
        "model_cnn_lstm.add(LSTM(50, activation='relu'))\n",
        "model_cnn_lstm.add(Dropout(0.4))\n",
        "model_cnn_lstm.add(Dense(1))\n",
        "model_cnn_lstm.compile(loss='mse', optimizer=adam)"
      ],
      "execution_count": 0,
      "outputs": []
    },
    {
      "cell_type": "code",
      "metadata": {
        "trusted": true,
        "id": "FB-X-Ewtmso1",
        "colab_type": "code",
        "colab": {}
      },
      "source": [
        "cnn_lstm_history = model_cnn_lstm.fit(X_train_series_sub, y_train, batch_size = 4096,epochs = 100)"
      ],
      "execution_count": 0,
      "outputs": []
    },
    {
      "cell_type": "code",
      "metadata": {
        "trusted": true,
        "id": "3ozUZPtwmso2",
        "colab_type": "code",
        "colab": {}
      },
      "source": [
        "submission_lstm_cnn = model_cnn_lstm.predict(X_test_series_sub)"
      ],
      "execution_count": 0,
      "outputs": []
    },
    {
      "cell_type": "code",
      "metadata": {
        "trusted": true,
        "id": "G9KBefiTmso3",
        "colab_type": "code",
        "colab": {}
      },
      "source": [
        "submission_lstm_cnn"
      ],
      "execution_count": 0,
      "outputs": []
    },
    {
      "cell_type": "code",
      "metadata": {
        "trusted": true,
        "id": "6VwMshFemso5",
        "colab_type": "code",
        "colab": {}
      },
      "source": [
        "submission_lstm_cnn = submission_lstm_cnn.clip(0,20)\n",
        "# creating dataframe with required columns \n",
        "submission_lstm_cnn_csv = pd.DataFrame({'ID':test_data['ID'],'item_cnt_month':submission_lstm_cnn.ravel()})\n",
        "\n",
        "# creating csv file from dataframe\n",
        "submission_lstm_cnn_csv.to_csv('sub_lstm_cnn.csv',index = False)"
      ],
      "execution_count": 0,
      "outputs": []
    },
    {
      "cell_type": "code",
      "metadata": {
        "trusted": true,
        "_uuid": "c6c04c796d4b30f7330d97ede3cdca92a7607a4c",
        "id": "yLmPZgnEmso6",
        "colab_type": "code",
        "colab": {}
      },
      "source": [
        "# our defining our model \n",
        "my_model = Sequential()\n",
        "my_model.add(LSTM(units = 64,input_shape = (33,1)))\n",
        "my_model.add(Dropout(0.4))\n",
        "my_model.add(Dense(1))\n",
        "\n",
        "my_model.compile(loss = 'mse',optimizer = 'adam', metrics = ['mean_squared_error'])\n",
        "my_model.summary()\n"
      ],
      "execution_count": 0,
      "outputs": []
    },
    {
      "cell_type": "code",
      "metadata": {
        "trusted": true,
        "id": "xTBaEt0amso8",
        "colab_type": "code",
        "colab": {}
      },
      "source": [
        "X_train.shape"
      ],
      "execution_count": 0,
      "outputs": []
    },
    {
      "cell_type": "code",
      "metadata": {
        "trusted": true,
        "_uuid": "a25822391ef2ab412f5abdd2b317d9eec825e19b",
        "scrolled": true,
        "id": "oVmOhLkcmso9",
        "colab_type": "code",
        "colab": {}
      },
      "source": [
        "my_model.fit(X_train,y_train,batch_size = 4096,epochs = 10)"
      ],
      "execution_count": 0,
      "outputs": []
    },
    {
      "cell_type": "code",
      "metadata": {
        "trusted": true,
        "id": "aUZ05ZNjmspA",
        "colab_type": "code",
        "colab": {}
      },
      "source": [
        "# creating submission file \n",
        "submission_pfs = my_model.predict(X_test)"
      ],
      "execution_count": 0,
      "outputs": []
    },
    {
      "cell_type": "code",
      "metadata": {
        "trusted": true,
        "id": "yBl5h7jGmspB",
        "colab_type": "code",
        "colab": {}
      },
      "source": [
        "# we will keep every value between 0 and 20\n",
        "\n",
        "submission_pfs.shape\n",
        "submission_pfs"
      ],
      "execution_count": 0,
      "outputs": []
    },
    {
      "cell_type": "code",
      "metadata": {
        "trusted": true,
        "id": "INmzCiHomspC",
        "colab_type": "code",
        "colab": {}
      },
      "source": [
        "submission_pfs = submission_pfs.clip(0,20)\n"
      ],
      "execution_count": 0,
      "outputs": []
    },
    {
      "cell_type": "code",
      "metadata": {
        "trusted": true,
        "id": "fW6ua-4UmspD",
        "colab_type": "code",
        "colab": {}
      },
      "source": [
        "submission_pfs"
      ],
      "execution_count": 0,
      "outputs": []
    },
    {
      "cell_type": "code",
      "metadata": {
        "trusted": true,
        "_uuid": "ab9760e02619d6a3d408e0d4f427adc1f20504c2",
        "id": "VxVk2hodmspE",
        "colab_type": "code",
        "colab": {}
      },
      "source": [
        "\n",
        "\n",
        "# creating dataframe with required columns \n",
        "submission = pd.DataFrame({'ID':test_data['ID'],'item_cnt_month':submission_pfs.ravel()})\n",
        "\n",
        "# creating csv file from dataframe\n",
        "submission.to_csv('sub_pfs.csv',index = False)\n"
      ],
      "execution_count": 0,
      "outputs": []
    },
    {
      "cell_type": "code",
      "metadata": {
        "trusted": true,
        "id": "T2zk7h7lmspF",
        "colab_type": "code",
        "colab": {}
      },
      "source": [
        "submission.head()"
      ],
      "execution_count": 0,
      "outputs": []
    }
  ]
}