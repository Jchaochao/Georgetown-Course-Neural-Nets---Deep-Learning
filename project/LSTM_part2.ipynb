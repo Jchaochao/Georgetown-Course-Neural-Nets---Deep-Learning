{
 "cells": [
  {
   "cell_type": "code",
   "execution_count": 43,
   "metadata": {},
   "outputs": [],
   "source": [
    "import numpy as np\n",
    "import pandas as pd \n",
    "import os\n",
    "import matplotlib.pyplot as plt\n",
    "\n",
    "from keras.models import Sequential\n",
    "from keras.layers import LSTM,Dense,Dropout,GRU"
   ]
  },
  {
   "cell_type": "code",
   "execution_count": 44,
   "metadata": {},
   "outputs": [],
   "source": [
    "#loading data \n",
    "sales_data = pd.read_csv('./sales_train_v2.csv')\n",
    "item_cat = pd.read_csv('./item_categories.csv')\n",
    "items = pd.read_csv('./items.csv')\n",
    "shops = pd.read_csv('./shops.csv')\n",
    "sample_submission = pd.read_csv('./sample_submission.csv')\n",
    "test_data = pd.read_csv('./test.csv')"
   ]
  },
  {
   "cell_type": "code",
   "execution_count": 45,
   "metadata": {},
   "outputs": [],
   "source": [
    "def basic_eda(df):\n",
    "    print(\"----------TOP 5 RECORDS--------\")\n",
    "    print(df.head(5))\n",
    "    print(\"----------INFO-----------------\")\n",
    "    print(df.info())\n",
    "    print(\"----------Describe-------------\")\n",
    "    print(df.describe())\n",
    "    print(\"----------Columns--------------\")\n",
    "    print(df.columns)\n",
    "    print(\"----------Data Types-----------\")\n",
    "    print(df.dtypes)\n",
    "    print(\"-------Missing Values----------\")\n",
    "    print(df.isnull().sum())\n",
    "    print(\"-------NULL values-------------\")\n",
    "    print(df.isna().sum())\n",
    "    print(\"-----Shape Of Data-------------\")\n",
    "    print(df.shape)"
   ]
  },
  {
   "cell_type": "code",
   "execution_count": 46,
   "metadata": {},
   "outputs": [
    {
     "name": "stdout",
     "output_type": "stream",
     "text": "=============================Sales Data=============================\n----------TOP 5 RECORDS--------\n         date  date_block_num  shop_id  item_id  item_price  item_cnt_day\n0  02.01.2013               0       59    22154      999.00           1.0\n1  03.01.2013               0       25     2552      899.00           1.0\n2  05.01.2013               0       25     2552      899.00          -1.0\n3  06.01.2013               0       25     2554     1709.05           1.0\n4  15.01.2013               0       25     2555     1099.00           1.0\n----------INFO-----------------\n<class 'pandas.core.frame.DataFrame'>\nRangeIndex: 2935849 entries, 0 to 2935848\nData columns (total 6 columns):\ndate              object\ndate_block_num    int64\nshop_id           int64\nitem_id           int64\nitem_price        float64\nitem_cnt_day      float64\ndtypes: float64(2), int64(3), object(1)\nmemory usage: 134.4+ MB\nNone\n----------Describe-------------\n       date_block_num       shop_id       item_id    item_price  item_cnt_day\ncount    2.935849e+06  2.935849e+06  2.935849e+06  2.935849e+06  2.935849e+06\nmean     1.456991e+01  3.300173e+01  1.019723e+04  8.908532e+02  1.242641e+00\nstd      9.422988e+00  1.622697e+01  6.324297e+03  1.729800e+03  2.618834e+00\nmin      0.000000e+00  0.000000e+00  0.000000e+00 -1.000000e+00 -2.200000e+01\n25%      7.000000e+00  2.200000e+01  4.476000e+03  2.490000e+02  1.000000e+00\n50%      1.400000e+01  3.100000e+01  9.343000e+03  3.990000e+02  1.000000e+00\n75%      2.300000e+01  4.700000e+01  1.568400e+04  9.990000e+02  1.000000e+00\nmax      3.300000e+01  5.900000e+01  2.216900e+04  3.079800e+05  2.169000e+03\n----------Columns--------------\nIndex(['date', 'date_block_num', 'shop_id', 'item_id', 'item_price',\n       'item_cnt_day'],\n      dtype='object')\n----------Data Types-----------\ndate               object\ndate_block_num      int64\nshop_id             int64\nitem_id             int64\nitem_price        float64\nitem_cnt_day      float64\ndtype: object\n-------Missing Values----------\ndate              0\ndate_block_num    0\nshop_id           0\nitem_id           0\nitem_price        0\nitem_cnt_day      0\ndtype: int64\n-------NULL values-------------\ndate              0\ndate_block_num    0\nshop_id           0\nitem_id           0\nitem_price        0\nitem_cnt_day      0\ndtype: int64\n-----Shape Of Data-------------\n(2935849, 6)\n=============================Test data=============================\n----------TOP 5 RECORDS--------\n   ID  shop_id  item_id\n0   0        5     5037\n1   1        5     5320\n2   2        5     5233\n3   3        5     5232\n4   4        5     5268\n----------INFO-----------------\n<class 'pandas.core.frame.DataFrame'>\nRangeIndex: 214200 entries, 0 to 214199\nData columns (total 3 columns):\nID         214200 non-null int64\nshop_id    214200 non-null int64\nitem_id    214200 non-null int64\ndtypes: int64(3)\nmemory usage: 4.9 MB\nNone\n----------Describe-------------\n                  ID        shop_id        item_id\ncount  214200.000000  214200.000000  214200.000000\nmean   107099.500000      31.642857   11019.398627\nstd     61834.358168      17.561933    6252.644590\nmin         0.000000       2.000000      30.000000\n25%     53549.750000      16.000000    5381.500000\n50%    107099.500000      34.500000   11203.000000\n75%    160649.250000      47.000000   16071.500000\nmax    214199.000000      59.000000   22167.000000\n----------Columns--------------\nIndex(['ID', 'shop_id', 'item_id'], dtype='object')\n----------Data Types-----------\nID         int64\nshop_id    int64\nitem_id    int64\ndtype: object\n-------Missing Values----------\nID         0\nshop_id    0\nitem_id    0\ndtype: int64\n-------NULL values-------------\nID         0\nshop_id    0\nitem_id    0\ndtype: int64\n-----Shape Of Data-------------\n(214200, 3)\n=============================Item Categories=============================\n----------TOP 5 RECORDS--------\n        item_category_name  item_category_id\n0  PC - Гарнитуры/Наушники                 0\n1         Аксессуары - PS2                 1\n2         Аксессуары - PS3                 2\n3         Аксессуары - PS4                 3\n4         Аксессуары - PSP                 4\n----------INFO-----------------\n<class 'pandas.core.frame.DataFrame'>\nRangeIndex: 84 entries, 0 to 83\nData columns (total 2 columns):\nitem_category_name    84 non-null object\nitem_category_id      84 non-null int64\ndtypes: int64(1), object(1)\nmemory usage: 1.4+ KB\nNone\n----------Describe-------------\n       item_category_id\ncount         84.000000\nmean          41.500000\nstd           24.392622\nmin            0.000000\n25%           20.750000\n50%           41.500000\n75%           62.250000\nmax           83.000000\n----------Columns--------------\nIndex(['item_category_name', 'item_category_id'], dtype='object')\n----------Data Types-----------\nitem_category_name    object\nitem_category_id       int64\ndtype: object\n-------Missing Values----------\nitem_category_name    0\nitem_category_id      0\ndtype: int64\n-------NULL values-------------\nitem_category_name    0\nitem_category_id      0\ndtype: int64\n-----Shape Of Data-------------\n(84, 2)\n=============================Items=============================\n----------TOP 5 RECORDS--------\n                                           item_name  item_id  \\\n0          ! ВО ВЛАСТИ НАВАЖДЕНИЯ (ПЛАСТ.)         D        0   \n1  !ABBYY FineReader 12 Professional Edition Full...        1   \n2      ***В ЛУЧАХ СЛАВЫ   (UNV)                    D        2   \n3    ***ГОЛУБАЯ ВОЛНА  (Univ)                      D        3   \n4        ***КОРОБКА (СТЕКЛО)                       D        4   \n\n   item_category_id  \n0                40  \n1                76  \n2                40  \n3                40  \n4                40  \n----------INFO-----------------\n<class 'pandas.core.frame.DataFrame'>\nRangeIndex: 22170 entries, 0 to 22169\nData columns (total 3 columns):\nitem_name           22170 non-null object\nitem_id             22170 non-null int64\nitem_category_id    22170 non-null int64\ndtypes: int64(2), object(1)\nmemory usage: 519.7+ KB\nNone\n----------Describe-------------\n           item_id  item_category_id\ncount  22170.00000      22170.000000\nmean   11084.50000         46.290753\nstd     6400.07207         15.941486\nmin        0.00000          0.000000\n25%     5542.25000         37.000000\n50%    11084.50000         40.000000\n75%    16626.75000         58.000000\nmax    22169.00000         83.000000\n----------Columns--------------\nIndex(['item_name', 'item_id', 'item_category_id'], dtype='object')\n----------Data Types-----------\nitem_name           object\nitem_id              int64\nitem_category_id     int64\ndtype: object\n-------Missing Values----------\nitem_name           0\nitem_id             0\nitem_category_id    0\ndtype: int64\n-------NULL values-------------\nitem_name           0\nitem_id             0\nitem_category_id    0\ndtype: int64\n-----Shape Of Data-------------\n(22170, 3)\n=============================Shops=============================\n----------TOP 5 RECORDS--------\n                        shop_name  shop_id\n0   !Якутск Орджоникидзе, 56 фран        0\n1   !Якутск ТЦ \"Центральный\" фран        1\n2                Адыгея ТЦ \"Мега\"        2\n3  Балашиха ТРК \"Октябрь-Киномир\"        3\n4        Волжский ТЦ \"Волга Молл\"        4\n----------INFO-----------------\n<class 'pandas.core.frame.DataFrame'>\nRangeIndex: 60 entries, 0 to 59\nData columns (total 2 columns):\nshop_name    60 non-null object\nshop_id      60 non-null int64\ndtypes: int64(1), object(1)\nmemory usage: 1.0+ KB\nNone\n----------Describe-------------\n         shop_id\ncount  60.000000\nmean   29.500000\nstd    17.464249\nmin     0.000000\n25%    14.750000\n50%    29.500000\n75%    44.250000\nmax    59.000000\n----------Columns--------------\nIndex(['shop_name', 'shop_id'], dtype='object')\n----------Data Types-----------\nshop_name    object\nshop_id       int64\ndtype: object\n-------Missing Values----------\nshop_name    0\nshop_id      0\ndtype: int64\n-------NULL values-------------\nshop_name    0\nshop_id      0\ndtype: int64\n-----Shape Of Data-------------\n(60, 2)\n=============================Sample Submission=============================\n----------TOP 5 RECORDS--------\n   ID  item_cnt_month\n0   0             0.5\n1   1             0.5\n2   2             0.5\n3   3             0.5\n4   4             0.5\n----------INFO-----------------\n<class 'pandas.core.frame.DataFrame'>\nRangeIndex: 214200 entries, 0 to 214199\nData columns (total 2 columns):\nID                214200 non-null int64\nitem_cnt_month    214200 non-null float64\ndtypes: float64(1), int64(1)\nmemory usage: 3.3 MB\nNone\n----------Describe-------------\n                  ID  item_cnt_month\ncount  214200.000000        214200.0\nmean   107099.500000             0.5\nstd     61834.358168             0.0\nmin         0.000000             0.5\n25%     53549.750000             0.5\n50%    107099.500000             0.5\n75%    160649.250000             0.5\nmax    214199.000000             0.5\n----------Columns--------------\nIndex(['ID', 'item_cnt_month'], dtype='object')\n----------Data Types-----------\nID                  int64\nitem_cnt_month    float64\ndtype: object\n-------Missing Values----------\nID                0\nitem_cnt_month    0\ndtype: int64\n-------NULL values-------------\nID                0\nitem_cnt_month    0\ndtype: int64\n-----Shape Of Data-------------\n(214200, 2)\n"
    }
   ],
   "source": [
    "print(\"=============================Sales Data=============================\")\n",
    "basic_eda(sales_data)\n",
    "print(\"=============================Test data=============================\")\n",
    "basic_eda(test_data)\n",
    "print(\"=============================Item Categories=============================\")\n",
    "basic_eda(item_cat)\n",
    "print(\"=============================Items=============================\")\n",
    "basic_eda(items)\n",
    "print(\"=============================Shops=============================\")\n",
    "basic_eda(shops)\n",
    "print(\"=============================Sample Submission=============================\")\n",
    "basic_eda(sample_submission)"
   ]
  },
  {
   "cell_type": "code",
   "execution_count": 47,
   "metadata": {},
   "outputs": [],
   "source": [
    "sales_data['date'] = pd.to_datetime(sales_data['date'],format = '%d.%m.%Y')"
   ]
  },
  {
   "cell_type": "code",
   "execution_count": 48,
   "metadata": {},
   "outputs": [
    {
     "data": {
      "text/html": "<div>\n<style scoped>\n    .dataframe tbody tr th:only-of-type {\n        vertical-align: middle;\n    }\n\n    .dataframe tbody tr th {\n        vertical-align: top;\n    }\n\n    .dataframe thead tr th {\n        text-align: left;\n    }\n</style>\n<table border=\"1\" class=\"dataframe\">\n  <thead>\n    <tr>\n      <th></th>\n      <th>shop_id</th>\n      <th>item_id</th>\n      <th colspan=\"19\" halign=\"left\">item_cnt_day</th>\n    </tr>\n    <tr>\n      <th>date_block_num</th>\n      <th></th>\n      <th></th>\n      <th>0</th>\n      <th>1</th>\n      <th>2</th>\n      <th>3</th>\n      <th>4</th>\n      <th>5</th>\n      <th>6</th>\n      <th>7</th>\n      <th>...</th>\n      <th>24</th>\n      <th>25</th>\n      <th>26</th>\n      <th>27</th>\n      <th>28</th>\n      <th>29</th>\n      <th>30</th>\n      <th>31</th>\n      <th>32</th>\n      <th>33</th>\n    </tr>\n  </thead>\n  <tbody>\n    <tr>\n      <th>0</th>\n      <td>0</td>\n      <td>30</td>\n      <td>0</td>\n      <td>31</td>\n      <td>0</td>\n      <td>0</td>\n      <td>0</td>\n      <td>0</td>\n      <td>0</td>\n      <td>0</td>\n      <td>...</td>\n      <td>0</td>\n      <td>0</td>\n      <td>0</td>\n      <td>0</td>\n      <td>0</td>\n      <td>0</td>\n      <td>0</td>\n      <td>0</td>\n      <td>0</td>\n      <td>0</td>\n    </tr>\n    <tr>\n      <th>1</th>\n      <td>0</td>\n      <td>31</td>\n      <td>0</td>\n      <td>11</td>\n      <td>0</td>\n      <td>0</td>\n      <td>0</td>\n      <td>0</td>\n      <td>0</td>\n      <td>0</td>\n      <td>...</td>\n      <td>0</td>\n      <td>0</td>\n      <td>0</td>\n      <td>0</td>\n      <td>0</td>\n      <td>0</td>\n      <td>0</td>\n      <td>0</td>\n      <td>0</td>\n      <td>0</td>\n    </tr>\n    <tr>\n      <th>2</th>\n      <td>0</td>\n      <td>32</td>\n      <td>6</td>\n      <td>10</td>\n      <td>0</td>\n      <td>0</td>\n      <td>0</td>\n      <td>0</td>\n      <td>0</td>\n      <td>0</td>\n      <td>...</td>\n      <td>0</td>\n      <td>0</td>\n      <td>0</td>\n      <td>0</td>\n      <td>0</td>\n      <td>0</td>\n      <td>0</td>\n      <td>0</td>\n      <td>0</td>\n      <td>0</td>\n    </tr>\n    <tr>\n      <th>3</th>\n      <td>0</td>\n      <td>33</td>\n      <td>3</td>\n      <td>3</td>\n      <td>0</td>\n      <td>0</td>\n      <td>0</td>\n      <td>0</td>\n      <td>0</td>\n      <td>0</td>\n      <td>...</td>\n      <td>0</td>\n      <td>0</td>\n      <td>0</td>\n      <td>0</td>\n      <td>0</td>\n      <td>0</td>\n      <td>0</td>\n      <td>0</td>\n      <td>0</td>\n      <td>0</td>\n    </tr>\n    <tr>\n      <th>4</th>\n      <td>0</td>\n      <td>35</td>\n      <td>1</td>\n      <td>14</td>\n      <td>0</td>\n      <td>0</td>\n      <td>0</td>\n      <td>0</td>\n      <td>0</td>\n      <td>0</td>\n      <td>...</td>\n      <td>0</td>\n      <td>0</td>\n      <td>0</td>\n      <td>0</td>\n      <td>0</td>\n      <td>0</td>\n      <td>0</td>\n      <td>0</td>\n      <td>0</td>\n      <td>0</td>\n    </tr>\n  </tbody>\n</table>\n<p>5 rows × 36 columns</p>\n</div>",
      "text/plain": "               shop_id item_id item_cnt_day                       ...        \\\ndate_block_num                            0   1  2  3  4  5  6  7 ... 24 25   \n0                    0      30            0  31  0  0  0  0  0  0 ...  0  0   \n1                    0      31            0  11  0  0  0  0  0  0 ...  0  0   \n2                    0      32            6  10  0  0  0  0  0  0 ...  0  0   \n3                    0      33            3   3  0  0  0  0  0  0 ...  0  0   \n4                    0      35            1  14  0  0  0  0  0  0 ...  0  0   \n\n                                        \ndate_block_num 26 27 28 29 30 31 32 33  \n0               0  0  0  0  0  0  0  0  \n1               0  0  0  0  0  0  0  0  \n2               0  0  0  0  0  0  0  0  \n3               0  0  0  0  0  0  0  0  \n4               0  0  0  0  0  0  0  0  \n\n[5 rows x 36 columns]"
     },
     "execution_count": 48,
     "metadata": {},
     "output_type": "execute_result"
    }
   ],
   "source": [
    "dataset = sales_data.pivot_table(index = ['shop_id','item_id'],values = ['item_cnt_day'],columns = ['date_block_num'],fill_value = 0,aggfunc='sum')\n",
    "dataset.reset_index(inplace = True)\n",
    "dataset.head()"
   ]
  },
  {
   "cell_type": "code",
   "execution_count": 49,
   "metadata": {},
   "outputs": [
    {
     "name": "stderr",
     "output_type": "stream",
     "text": "E:\\Anaconda3\\lib\\site-packages\\pandas\\core\\reshape\\merge.py:558: UserWarning: merging between different levels can give an unintended result (1 levels on the left, 2 on the right)\n  warnings.warn(msg, UserWarning)\nE:\\Anaconda3\\lib\\site-packages\\pandas\\core\\generic.py:2530: PerformanceWarning: dropping on a non-lexsorted multi-index without a level parameter may impact performance.\n  obj = obj._drop_axis(labels, axis, level=level, errors=errors)\n"
    },
    {
     "data": {
      "text/html": "<div>\n<style scoped>\n    .dataframe tbody tr th:only-of-type {\n        vertical-align: middle;\n    }\n\n    .dataframe tbody tr th {\n        vertical-align: top;\n    }\n\n    .dataframe thead th {\n        text-align: right;\n    }\n</style>\n<table border=\"1\" class=\"dataframe\">\n  <thead>\n    <tr style=\"text-align: right;\">\n      <th></th>\n      <th>ID</th>\n      <th>shop_id</th>\n      <th>item_id</th>\n      <th>(item_cnt_day, 0)</th>\n      <th>(item_cnt_day, 1)</th>\n      <th>(item_cnt_day, 2)</th>\n      <th>(item_cnt_day, 3)</th>\n      <th>(item_cnt_day, 4)</th>\n      <th>(item_cnt_day, 5)</th>\n      <th>(item_cnt_day, 6)</th>\n      <th>...</th>\n      <th>(item_cnt_day, 24)</th>\n      <th>(item_cnt_day, 25)</th>\n      <th>(item_cnt_day, 26)</th>\n      <th>(item_cnt_day, 27)</th>\n      <th>(item_cnt_day, 28)</th>\n      <th>(item_cnt_day, 29)</th>\n      <th>(item_cnt_day, 30)</th>\n      <th>(item_cnt_day, 31)</th>\n      <th>(item_cnt_day, 32)</th>\n      <th>(item_cnt_day, 33)</th>\n    </tr>\n  </thead>\n  <tbody>\n    <tr>\n      <th>0</th>\n      <td>0</td>\n      <td>5</td>\n      <td>5037</td>\n      <td>0.0</td>\n      <td>0.0</td>\n      <td>0.0</td>\n      <td>0.0</td>\n      <td>0.0</td>\n      <td>0.0</td>\n      <td>0.0</td>\n      <td>...</td>\n      <td>2.0</td>\n      <td>0.0</td>\n      <td>0.0</td>\n      <td>0.0</td>\n      <td>1.0</td>\n      <td>1.0</td>\n      <td>1.0</td>\n      <td>3.0</td>\n      <td>1.0</td>\n      <td>0.0</td>\n    </tr>\n    <tr>\n      <th>1</th>\n      <td>1</td>\n      <td>5</td>\n      <td>5320</td>\n      <td>0.0</td>\n      <td>0.0</td>\n      <td>0.0</td>\n      <td>0.0</td>\n      <td>0.0</td>\n      <td>0.0</td>\n      <td>0.0</td>\n      <td>...</td>\n      <td>0.0</td>\n      <td>0.0</td>\n      <td>0.0</td>\n      <td>0.0</td>\n      <td>0.0</td>\n      <td>0.0</td>\n      <td>0.0</td>\n      <td>0.0</td>\n      <td>0.0</td>\n      <td>0.0</td>\n    </tr>\n    <tr>\n      <th>2</th>\n      <td>2</td>\n      <td>5</td>\n      <td>5233</td>\n      <td>0.0</td>\n      <td>0.0</td>\n      <td>0.0</td>\n      <td>0.0</td>\n      <td>0.0</td>\n      <td>0.0</td>\n      <td>0.0</td>\n      <td>...</td>\n      <td>0.0</td>\n      <td>0.0</td>\n      <td>0.0</td>\n      <td>0.0</td>\n      <td>3.0</td>\n      <td>2.0</td>\n      <td>0.0</td>\n      <td>1.0</td>\n      <td>3.0</td>\n      <td>1.0</td>\n    </tr>\n    <tr>\n      <th>3</th>\n      <td>3</td>\n      <td>5</td>\n      <td>5232</td>\n      <td>0.0</td>\n      <td>0.0</td>\n      <td>0.0</td>\n      <td>0.0</td>\n      <td>0.0</td>\n      <td>0.0</td>\n      <td>0.0</td>\n      <td>...</td>\n      <td>0.0</td>\n      <td>0.0</td>\n      <td>0.0</td>\n      <td>0.0</td>\n      <td>0.0</td>\n      <td>0.0</td>\n      <td>0.0</td>\n      <td>1.0</td>\n      <td>0.0</td>\n      <td>0.0</td>\n    </tr>\n    <tr>\n      <th>4</th>\n      <td>4</td>\n      <td>5</td>\n      <td>5268</td>\n      <td>0.0</td>\n      <td>0.0</td>\n      <td>0.0</td>\n      <td>0.0</td>\n      <td>0.0</td>\n      <td>0.0</td>\n      <td>0.0</td>\n      <td>...</td>\n      <td>0.0</td>\n      <td>0.0</td>\n      <td>0.0</td>\n      <td>0.0</td>\n      <td>0.0</td>\n      <td>0.0</td>\n      <td>0.0</td>\n      <td>0.0</td>\n      <td>0.0</td>\n      <td>0.0</td>\n    </tr>\n  </tbody>\n</table>\n<p>5 rows × 37 columns</p>\n</div>",
      "text/plain": "   ID  shop_id  item_id  (item_cnt_day, 0)  (item_cnt_day, 1)  \\\n0   0        5     5037                0.0                0.0   \n1   1        5     5320                0.0                0.0   \n2   2        5     5233                0.0                0.0   \n3   3        5     5232                0.0                0.0   \n4   4        5     5268                0.0                0.0   \n\n   (item_cnt_day, 2)  (item_cnt_day, 3)  (item_cnt_day, 4)  (item_cnt_day, 5)  \\\n0                0.0                0.0                0.0                0.0   \n1                0.0                0.0                0.0                0.0   \n2                0.0                0.0                0.0                0.0   \n3                0.0                0.0                0.0                0.0   \n4                0.0                0.0                0.0                0.0   \n\n   (item_cnt_day, 6)         ...          (item_cnt_day, 24)  \\\n0                0.0         ...                         2.0   \n1                0.0         ...                         0.0   \n2                0.0         ...                         0.0   \n3                0.0         ...                         0.0   \n4                0.0         ...                         0.0   \n\n   (item_cnt_day, 25)  (item_cnt_day, 26)  (item_cnt_day, 27)  \\\n0                 0.0                 0.0                 0.0   \n1                 0.0                 0.0                 0.0   \n2                 0.0                 0.0                 0.0   \n3                 0.0                 0.0                 0.0   \n4                 0.0                 0.0                 0.0   \n\n   (item_cnt_day, 28)  (item_cnt_day, 29)  (item_cnt_day, 30)  \\\n0                 1.0                 1.0                 1.0   \n1                 0.0                 0.0                 0.0   \n2                 3.0                 2.0                 0.0   \n3                 0.0                 0.0                 0.0   \n4                 0.0                 0.0                 0.0   \n\n   (item_cnt_day, 31)  (item_cnt_day, 32)  (item_cnt_day, 33)  \n0                 3.0                 1.0                 0.0  \n1                 0.0                 0.0                 0.0  \n2                 1.0                 3.0                 1.0  \n3                 1.0                 0.0                 0.0  \n4                 0.0                 0.0                 0.0  \n\n[5 rows x 37 columns]"
     },
     "execution_count": 49,
     "metadata": {},
     "output_type": "execute_result"
    }
   ],
   "source": [
    "dataset = pd.merge(test_data,dataset,on = ['item_id','shop_id'],how = 'left')\n",
    "# lets fill all NaN values with 0\n",
    "dataset.fillna(0,inplace = True)\n",
    "# lets check our data now \n",
    "dataset.head()"
   ]
  },
  {
   "cell_type": "code",
   "execution_count": 50,
   "metadata": {},
   "outputs": [
    {
     "data": {
      "text/html": "<div>\n<style scoped>\n    .dataframe tbody tr th:only-of-type {\n        vertical-align: middle;\n    }\n\n    .dataframe tbody tr th {\n        vertical-align: top;\n    }\n\n    .dataframe thead th {\n        text-align: right;\n    }\n</style>\n<table border=\"1\" class=\"dataframe\">\n  <thead>\n    <tr style=\"text-align: right;\">\n      <th></th>\n      <th>(item_cnt_day, 0)</th>\n      <th>(item_cnt_day, 1)</th>\n      <th>(item_cnt_day, 2)</th>\n      <th>(item_cnt_day, 3)</th>\n      <th>(item_cnt_day, 4)</th>\n      <th>(item_cnt_day, 5)</th>\n      <th>(item_cnt_day, 6)</th>\n      <th>(item_cnt_day, 7)</th>\n      <th>(item_cnt_day, 8)</th>\n      <th>(item_cnt_day, 9)</th>\n      <th>...</th>\n      <th>(item_cnt_day, 24)</th>\n      <th>(item_cnt_day, 25)</th>\n      <th>(item_cnt_day, 26)</th>\n      <th>(item_cnt_day, 27)</th>\n      <th>(item_cnt_day, 28)</th>\n      <th>(item_cnt_day, 29)</th>\n      <th>(item_cnt_day, 30)</th>\n      <th>(item_cnt_day, 31)</th>\n      <th>(item_cnt_day, 32)</th>\n      <th>(item_cnt_day, 33)</th>\n    </tr>\n  </thead>\n  <tbody>\n    <tr>\n      <th>0</th>\n      <td>0.0</td>\n      <td>0.0</td>\n      <td>0.0</td>\n      <td>0.0</td>\n      <td>0.0</td>\n      <td>0.0</td>\n      <td>0.0</td>\n      <td>0.0</td>\n      <td>0.0</td>\n      <td>0.0</td>\n      <td>...</td>\n      <td>2.0</td>\n      <td>0.0</td>\n      <td>0.0</td>\n      <td>0.0</td>\n      <td>1.0</td>\n      <td>1.0</td>\n      <td>1.0</td>\n      <td>3.0</td>\n      <td>1.0</td>\n      <td>0.0</td>\n    </tr>\n    <tr>\n      <th>1</th>\n      <td>0.0</td>\n      <td>0.0</td>\n      <td>0.0</td>\n      <td>0.0</td>\n      <td>0.0</td>\n      <td>0.0</td>\n      <td>0.0</td>\n      <td>0.0</td>\n      <td>0.0</td>\n      <td>0.0</td>\n      <td>...</td>\n      <td>0.0</td>\n      <td>0.0</td>\n      <td>0.0</td>\n      <td>0.0</td>\n      <td>0.0</td>\n      <td>0.0</td>\n      <td>0.0</td>\n      <td>0.0</td>\n      <td>0.0</td>\n      <td>0.0</td>\n    </tr>\n    <tr>\n      <th>2</th>\n      <td>0.0</td>\n      <td>0.0</td>\n      <td>0.0</td>\n      <td>0.0</td>\n      <td>0.0</td>\n      <td>0.0</td>\n      <td>0.0</td>\n      <td>0.0</td>\n      <td>0.0</td>\n      <td>0.0</td>\n      <td>...</td>\n      <td>0.0</td>\n      <td>0.0</td>\n      <td>0.0</td>\n      <td>0.0</td>\n      <td>3.0</td>\n      <td>2.0</td>\n      <td>0.0</td>\n      <td>1.0</td>\n      <td>3.0</td>\n      <td>1.0</td>\n    </tr>\n    <tr>\n      <th>3</th>\n      <td>0.0</td>\n      <td>0.0</td>\n      <td>0.0</td>\n      <td>0.0</td>\n      <td>0.0</td>\n      <td>0.0</td>\n      <td>0.0</td>\n      <td>0.0</td>\n      <td>0.0</td>\n      <td>0.0</td>\n      <td>...</td>\n      <td>0.0</td>\n      <td>0.0</td>\n      <td>0.0</td>\n      <td>0.0</td>\n      <td>0.0</td>\n      <td>0.0</td>\n      <td>0.0</td>\n      <td>1.0</td>\n      <td>0.0</td>\n      <td>0.0</td>\n    </tr>\n    <tr>\n      <th>4</th>\n      <td>0.0</td>\n      <td>0.0</td>\n      <td>0.0</td>\n      <td>0.0</td>\n      <td>0.0</td>\n      <td>0.0</td>\n      <td>0.0</td>\n      <td>0.0</td>\n      <td>0.0</td>\n      <td>0.0</td>\n      <td>...</td>\n      <td>0.0</td>\n      <td>0.0</td>\n      <td>0.0</td>\n      <td>0.0</td>\n      <td>0.0</td>\n      <td>0.0</td>\n      <td>0.0</td>\n      <td>0.0</td>\n      <td>0.0</td>\n      <td>0.0</td>\n    </tr>\n  </tbody>\n</table>\n<p>5 rows × 34 columns</p>\n</div>",
      "text/plain": "   (item_cnt_day, 0)  (item_cnt_day, 1)  (item_cnt_day, 2)  (item_cnt_day, 3)  \\\n0                0.0                0.0                0.0                0.0   \n1                0.0                0.0                0.0                0.0   \n2                0.0                0.0                0.0                0.0   \n3                0.0                0.0                0.0                0.0   \n4                0.0                0.0                0.0                0.0   \n\n   (item_cnt_day, 4)  (item_cnt_day, 5)  (item_cnt_day, 6)  (item_cnt_day, 7)  \\\n0                0.0                0.0                0.0                0.0   \n1                0.0                0.0                0.0                0.0   \n2                0.0                0.0                0.0                0.0   \n3                0.0                0.0                0.0                0.0   \n4                0.0                0.0                0.0                0.0   \n\n   (item_cnt_day, 8)  (item_cnt_day, 9)         ...          \\\n0                0.0                0.0         ...           \n1                0.0                0.0         ...           \n2                0.0                0.0         ...           \n3                0.0                0.0         ...           \n4                0.0                0.0         ...           \n\n   (item_cnt_day, 24)  (item_cnt_day, 25)  (item_cnt_day, 26)  \\\n0                 2.0                 0.0                 0.0   \n1                 0.0                 0.0                 0.0   \n2                 0.0                 0.0                 0.0   \n3                 0.0                 0.0                 0.0   \n4                 0.0                 0.0                 0.0   \n\n   (item_cnt_day, 27)  (item_cnt_day, 28)  (item_cnt_day, 29)  \\\n0                 0.0                 1.0                 1.0   \n1                 0.0                 0.0                 0.0   \n2                 0.0                 3.0                 2.0   \n3                 0.0                 0.0                 0.0   \n4                 0.0                 0.0                 0.0   \n\n   (item_cnt_day, 30)  (item_cnt_day, 31)  (item_cnt_day, 32)  \\\n0                 1.0                 3.0                 1.0   \n1                 0.0                 0.0                 0.0   \n2                 0.0                 1.0                 3.0   \n3                 0.0                 1.0                 0.0   \n4                 0.0                 0.0                 0.0   \n\n   (item_cnt_day, 33)  \n0                 0.0  \n1                 0.0  \n2                 1.0  \n3                 0.0  \n4                 0.0  \n\n[5 rows x 34 columns]"
     },
     "execution_count": 50,
     "metadata": {},
     "output_type": "execute_result"
    }
   ],
   "source": [
    "dataset.drop(['shop_id','item_id','ID'],inplace = True, axis = 1)\n",
    "dataset.head()"
   ]
  },
  {
   "cell_type": "code",
   "execution_count": 67,
   "metadata": {},
   "outputs": [],
   "source": [
    "# train data\n",
    "temp = dataset.values\n",
    "x_train = []\n",
    "y_train = []\n",
    "\n",
    "for sample in temp:\n",
    "    for index in [22, 23]:\n",
    "        # maxcnt = max(abs(max(sample[index:index+10])),abs(min(sample[index:index+10])))\n",
    "        x_train.append([[x] for x in sample[index:index+10]])\n",
    "        # x_train.append([[x/maxcnt if maxcnt != 0 else x] for x in sample[index:index+10]])\n",
    "        y_train.append(sample[index+10])\n",
    "\n",
    "x_train = np.array(x_train, dtype=float)\n",
    "y_train = np.array(y_train, dtype=float)\n",
    "# print(x_train.shape)"
   ]
  },
  {
   "cell_type": "code",
   "execution_count": 68,
   "metadata": {},
   "outputs": [],
   "source": [
    "# test data\n",
    "x_test = np.expand_dims(dataset.values[:,-10:],axis = 2)\n",
    "# x_test = []\n",
    "# maxcnts = []\n",
    "# index = 24\n",
    "# for sample in temp:\n",
    "#     maxcnt = max(abs(max(sample[index:index+10])),abs(min(sample[index:index+10])))\n",
    "#     x_test.append([[x/maxcnt if maxcnt != 0 else x] for x in sample[index:index+10]])\n",
    "#     maxcnts.append(maxcnt)\n",
    "\n",
    "# x_test = np.array(x_test, dtype=float)\n",
    "# maxcnts = np.array(maxcnts, dtype=float)"
   ]
  },
  {
   "cell_type": "code",
   "execution_count": 69,
   "metadata": {},
   "outputs": [
    {
     "name": "stdout",
     "output_type": "stream",
     "text": "(428400, 10, 1) (428400,) (214200, 10, 1)\n"
    }
   ],
   "source": [
    "print(x_train.shape,y_train.shape,x_test.shape)"
   ]
  },
  {
   "cell_type": "code",
   "execution_count": 70,
   "metadata": {},
   "outputs": [
    {
     "name": "stdout",
     "output_type": "stream",
     "text": "Model: \"sequential_5\"\n_________________________________________________________________\nLayer (type)                 Output Shape              Param #   \n=================================================================\ngru_3 (GRU)                  (None, 64)                12672     \n_________________________________________________________________\ndropout_5 (Dropout)          (None, 64)                0         \n_________________________________________________________________\ndense_5 (Dense)              (None, 1)                 65        \n=================================================================\nTotal params: 12,737\nTrainable params: 12,737\nNon-trainable params: 0\n_________________________________________________________________\n"
    }
   ],
   "source": [
    "my_model = Sequential()\n",
    "my_model.add(GRU(units = 64,input_shape = (10,1)))\n",
    "my_model.add(Dropout(0.4))\n",
    "my_model.add(Dense(1))\n",
    "\n",
    "my_model.compile(loss = 'mse',optimizer = 'adam', metrics = ['mean_squared_error'])\n",
    "my_model.summary()"
   ]
  },
  {
   "cell_type": "code",
   "execution_count": 71,
   "metadata": {},
   "outputs": [
    {
     "name": "stdout",
     "output_type": "stream",
     "text": "Train on 342720 samples, validate on 85680 samples\nEpoch 1/15\n342720/342720 [==============================] - 32s 95us/step - loss: 22.4857 - mean_squared_error: 22.4857 - val_loss: 1.1765 - val_mean_squared_error: 1.1765\nEpoch 2/15\n342720/342720 [==============================] - 31s 91us/step - loss: 21.9872 - mean_squared_error: 21.9872 - val_loss: 1.1235 - val_mean_squared_error: 1.1235\nEpoch 3/15\n342720/342720 [==============================] - 33s 95us/step - loss: 21.8237 - mean_squared_error: 21.8237 - val_loss: 1.0897 - val_mean_squared_error: 1.0897\nEpoch 4/15\n342720/342720 [==============================] - 30s 89us/step - loss: 21.7084 - mean_squared_error: 21.7084 - val_loss: 1.0761 - val_mean_squared_error: 1.0761\nEpoch 5/15\n342720/342720 [==============================] - 28s 82us/step - loss: 21.6347 - mean_squared_error: 21.6347 - val_loss: 1.0526 - val_mean_squared_error: 1.0526\nEpoch 6/15\n342720/342720 [==============================] - 28s 81us/step - loss: 21.5175 - mean_squared_error: 21.5175 - val_loss: 1.0302 - val_mean_squared_error: 1.0302\nEpoch 7/15\n342720/342720 [==============================] - 28s 82us/step - loss: 21.3954 - mean_squared_error: 21.3954 - val_loss: 1.0225 - val_mean_squared_error: 1.0225\nEpoch 8/15\n342720/342720 [==============================] - 28s 82us/step - loss: 21.3055 - mean_squared_error: 21.3055 - val_loss: 0.9946 - val_mean_squared_error: 0.9946\nEpoch 9/15\n342720/342720 [==============================] - 31s 91us/step - loss: 21.2022 - mean_squared_error: 21.2022 - val_loss: 0.9842 - val_mean_squared_error: 0.9842\nEpoch 10/15\n342720/342720 [==============================] - 39s 114us/step - loss: 21.2050 - mean_squared_error: 21.2050 - val_loss: 0.9768 - val_mean_squared_error: 0.9768\nEpoch 11/15\n342720/342720 [==============================] - 35s 101us/step - loss: 21.0758 - mean_squared_error: 21.0758 - val_loss: 0.9564 - val_mean_squared_error: 0.9564\nEpoch 12/15\n342720/342720 [==============================] - 35s 103us/step - loss: 20.9538 - mean_squared_error: 20.9538 - val_loss: 0.9450 - val_mean_squared_error: 0.9450\nEpoch 13/15\n342720/342720 [==============================] - 35s 101us/step - loss: 20.9119 - mean_squared_error: 20.9119 - val_loss: 0.9388 - val_mean_squared_error: 0.9388\nEpoch 14/15\n342720/342720 [==============================] - 40s 116us/step - loss: 20.8714 - mean_squared_error: 20.8714 - val_loss: 0.9274 - val_mean_squared_error: 0.9274\nEpoch 15/15\n342720/342720 [==============================] - 40s 117us/step - loss: 20.7552 - mean_squared_error: 20.7552 - val_loss: 0.9054 - val_mean_squared_error: 0.9054\n"
    }
   ],
   "source": [
    "history = my_model.fit(x_train,y_train,batch_size = 4096,epochs = 15, validation_split=0.2)"
   ]
  },
  {
   "cell_type": "code",
   "execution_count": 72,
   "metadata": {},
   "outputs": [
    {
     "data": {
      "text/plain": "[<matplotlib.lines.Line2D at 0x21b05c61da0>]"
     },
     "execution_count": 72,
     "metadata": {},
     "output_type": "execute_result"
    },
    {
     "data": {
      "image/png": "[encoded data removed]",
      "image/svg+xml": "<?xml version=\"1.0\" encoding=\"utf-8\" standalone=\"no\"?>\r\n<!DOCTYPE svg PUBLIC \"-//W3C//DTD SVG 1.1//EN\"\r\n  \"http://www.w3.org/Graphics/SVG/1.1/DTD/svg11.dtd\">\r\n<!-- Created with matplotlib (http://matplotlib.org/) -->\r\n<svg height=\"252pt\" version=\"1.1\" viewBox=\"0 0 372 252\" width=\"372pt\" xmlns=\"http://www.w3.org/2000/svg\" xmlns:xlink=\"http://www.w3.org/1999/xlink\">\r\n <defs>\r\n  <style type=\"text/css\">\r\n*{stroke-linecap:butt;stroke-linejoin:round;}\r\n  </style>\r\n </defs>\r\n <g id=\"figure_1\">\r\n  <g id=\"patch_1\">\r\n   <path d=\"M -0 252.018125 \r\nL 372.425 252.018125 \r\nL 372.425 0 \r\nL -0 0 \r\nz\r\n\" style=\"fill:none;\"/>\r\n  </g>\r\n  <g id=\"axes_1\">\r\n   <g id=\"patch_2\">\r\n    <path d=\"M 26.925 228.14 \r\nL 361.725 228.14 \r\nL 361.725 10.7 \r\nL 26.925 10.7 \r\nz\r\n\" style=\"fill:#ffffff;\"/>\r\n   </g>\r\n   <g id=\"matplotlib.axis_1\">\r\n    <g id=\"xtick_1\">\r\n     <g id=\"line2d_1\">\r\n      <defs>\r\n       <path d=\"M 0 0 \r\nL 0 3.5 \r\n\" id=\"m13fcf3867f\" style=\"stroke:#000000;stroke-width:0.8;\"/>\r\n      </defs>\r\n      <g>\r\n       <use style=\"stroke:#000000;stroke-width:0.8;\" x=\"42.143182\" xlink:href=\"#m13fcf3867f\" y=\"228.14\"/>\r\n      </g>\r\n     </g>\r\n     <g id=\"text_1\">\r\n      <!-- 0 -->\r\n      <defs>\r\n       <path d=\"M 31.78125 66.40625 \r\nQ 24.171875 66.40625 20.328125 58.90625 \r\nQ 16.5 51.421875 16.5 36.375 \r\nQ 16.5 21.390625 20.328125 13.890625 \r\nQ 24.171875 6.390625 31.78125 6.390625 \r\nQ 39.453125 6.390625 43.28125 13.890625 \r\nQ 47.125 21.390625 47.125 36.375 \r\nQ 47.125 51.421875 43.28125 58.90625 \r\nQ 39.453125 66.40625 31.78125 66.40625 \r\nz\r\nM 31.78125 74.21875 \r\nQ 44.046875 74.21875 50.515625 64.515625 \r\nQ 56.984375 54.828125 56.984375 36.375 \r\nQ 56.984375 17.96875 50.515625 8.265625 \r\nQ 44.046875 -1.421875 31.78125 -1.421875 \r\nQ 19.53125 -1.421875 13.0625 8.265625 \r\nQ 6.59375 17.96875 6.59375 36.375 \r\nQ 6.59375 54.828125 13.0625 64.515625 \r\nQ 19.53125 74.21875 31.78125 74.21875 \r\nz\r\n\" id=\"DejaVuSans-30\"/>\r\n      </defs>\r\n      <g transform=\"translate(38.961932 242.738437)scale(0.1 -0.1)\">\r\n       <use xlink:href=\"#DejaVuSans-30\"/>\r\n      </g>\r\n     </g>\r\n    </g>\r\n    <g id=\"xtick_2\">\r\n     <g id=\"line2d_2\">\r\n      <g>\r\n       <use style=\"stroke:#000000;stroke-width:0.8;\" x=\"85.623701\" xlink:href=\"#m13fcf3867f\" y=\"228.14\"/>\r\n      </g>\r\n     </g>\r\n     <g id=\"text_2\">\r\n      <!-- 2 -->\r\n      <defs>\r\n       <path d=\"M 19.1875 8.296875 \r\nL 53.609375 8.296875 \r\nL 53.609375 0 \r\nL 7.328125 0 \r\nL 7.328125 8.296875 \r\nQ 12.9375 14.109375 22.625 23.890625 \r\nQ 32.328125 33.6875 34.8125 36.53125 \r\nQ 39.546875 41.84375 41.421875 45.53125 \r\nQ 43.3125 49.21875 43.3125 52.78125 \r\nQ 43.3125 58.59375 39.234375 62.25 \r\nQ 35.15625 65.921875 28.609375 65.921875 \r\nQ 23.96875 65.921875 18.8125 64.3125 \r\nQ 13.671875 62.703125 7.8125 59.421875 \r\nL 7.8125 69.390625 \r\nQ 13.765625 71.78125 18.9375 73 \r\nQ 24.125 74.21875 28.421875 74.21875 \r\nQ 39.75 74.21875 46.484375 68.546875 \r\nQ 53.21875 62.890625 53.21875 53.421875 \r\nQ 53.21875 48.921875 51.53125 44.890625 \r\nQ 49.859375 40.875 45.40625 35.40625 \r\nQ 44.1875 33.984375 37.640625 27.21875 \r\nQ 31.109375 20.453125 19.1875 8.296875 \r\nz\r\n\" id=\"DejaVuSans-32\"/>\r\n      </defs>\r\n      <g transform=\"translate(82.442451 242.738437)scale(0.1 -0.1)\">\r\n       <use xlink:href=\"#DejaVuSans-32\"/>\r\n      </g>\r\n     </g>\r\n    </g>\r\n    <g id=\"xtick_3\">\r\n     <g id=\"line2d_3\">\r\n      <g>\r\n       <use style=\"stroke:#000000;stroke-width:0.8;\" x=\"129.104221\" xlink:href=\"#m13fcf3867f\" y=\"228.14\"/>\r\n      </g>\r\n     </g>\r\n     <g id=\"text_3\">\r\n      <!-- 4 -->\r\n      <defs>\r\n       <path d=\"M 37.796875 64.3125 \r\nL 12.890625 25.390625 \r\nL 37.796875 25.390625 \r\nz\r\nM 35.203125 72.90625 \r\nL 47.609375 72.90625 \r\nL 47.609375 25.390625 \r\nL 58.015625 25.390625 \r\nL 58.015625 17.1875 \r\nL 47.609375 17.1875 \r\nL 47.609375 0 \r\nL 37.796875 0 \r\nL 37.796875 17.1875 \r\nL 4.890625 17.1875 \r\nL 4.890625 26.703125 \r\nz\r\n\" id=\"DejaVuSans-34\"/>\r\n      </defs>\r\n      <g transform=\"translate(125.922971 242.738437)scale(0.1 -0.1)\">\r\n       <use xlink:href=\"#DejaVuSans-34\"/>\r\n      </g>\r\n     </g>\r\n    </g>\r\n    <g id=\"xtick_4\">\r\n     <g id=\"line2d_4\">\r\n      <g>\r\n       <use style=\"stroke:#000000;stroke-width:0.8;\" x=\"172.58474\" xlink:href=\"#m13fcf3867f\" y=\"228.14\"/>\r\n      </g>\r\n     </g>\r\n     <g id=\"text_4\">\r\n      <!-- 6 -->\r\n      <defs>\r\n       <path d=\"M 33.015625 40.375 \r\nQ 26.375 40.375 22.484375 35.828125 \r\nQ 18.609375 31.296875 18.609375 23.390625 \r\nQ 18.609375 15.53125 22.484375 10.953125 \r\nQ 26.375 6.390625 33.015625 6.390625 \r\nQ 39.65625 6.390625 43.53125 10.953125 \r\nQ 47.40625 15.53125 47.40625 23.390625 \r\nQ 47.40625 31.296875 43.53125 35.828125 \r\nQ 39.65625 40.375 33.015625 40.375 \r\nz\r\nM 52.59375 71.296875 \r\nL 52.59375 62.3125 \r\nQ 48.875 64.0625 45.09375 64.984375 \r\nQ 41.3125 65.921875 37.59375 65.921875 \r\nQ 27.828125 65.921875 22.671875 59.328125 \r\nQ 17.53125 52.734375 16.796875 39.40625 \r\nQ 19.671875 43.65625 24.015625 45.921875 \r\nQ 28.375 48.1875 33.59375 48.1875 \r\nQ 44.578125 48.1875 50.953125 41.515625 \r\nQ 57.328125 34.859375 57.328125 23.390625 \r\nQ 57.328125 12.15625 50.6875 5.359375 \r\nQ 44.046875 -1.421875 33.015625 -1.421875 \r\nQ 20.359375 -1.421875 13.671875 8.265625 \r\nQ 6.984375 17.96875 6.984375 36.375 \r\nQ 6.984375 53.65625 15.1875 63.9375 \r\nQ 23.390625 74.21875 37.203125 74.21875 \r\nQ 40.921875 74.21875 44.703125 73.484375 \r\nQ 48.484375 72.75 52.59375 71.296875 \r\nz\r\n\" id=\"DejaVuSans-36\"/>\r\n      </defs>\r\n      <g transform=\"translate(169.40349 242.738437)scale(0.1 -0.1)\">\r\n       <use xlink:href=\"#DejaVuSans-36\"/>\r\n      </g>\r\n     </g>\r\n    </g>\r\n    <g id=\"xtick_5\">\r\n     <g id=\"line2d_5\">\r\n      <g>\r\n       <use style=\"stroke:#000000;stroke-width:0.8;\" x=\"216.06526\" xlink:href=\"#m13fcf3867f\" y=\"228.14\"/>\r\n      </g>\r\n     </g>\r\n     <g id=\"text_5\">\r\n      <!-- 8 -->\r\n      <defs>\r\n       <path d=\"M 31.78125 34.625 \r\nQ 24.75 34.625 20.71875 30.859375 \r\nQ 16.703125 27.09375 16.703125 20.515625 \r\nQ 16.703125 13.921875 20.71875 10.15625 \r\nQ 24.75 6.390625 31.78125 6.390625 \r\nQ 38.8125 6.390625 42.859375 10.171875 \r\nQ 46.921875 13.96875 46.921875 20.515625 \r\nQ 46.921875 27.09375 42.890625 30.859375 \r\nQ 38.875 34.625 31.78125 34.625 \r\nz\r\nM 21.921875 38.8125 \r\nQ 15.578125 40.375 12.03125 44.71875 \r\nQ 8.5 49.078125 8.5 55.328125 \r\nQ 8.5 64.0625 14.71875 69.140625 \r\nQ 20.953125 74.21875 31.78125 74.21875 \r\nQ 42.671875 74.21875 48.875 69.140625 \r\nQ 55.078125 64.0625 55.078125 55.328125 \r\nQ 55.078125 49.078125 51.53125 44.71875 \r\nQ 48 40.375 41.703125 38.8125 \r\nQ 48.828125 37.15625 52.796875 32.3125 \r\nQ 56.78125 27.484375 56.78125 20.515625 \r\nQ 56.78125 9.90625 50.3125 4.234375 \r\nQ 43.84375 -1.421875 31.78125 -1.421875 \r\nQ 19.734375 -1.421875 13.25 4.234375 \r\nQ 6.78125 9.90625 6.78125 20.515625 \r\nQ 6.78125 27.484375 10.78125 32.3125 \r\nQ 14.796875 37.15625 21.921875 38.8125 \r\nz\r\nM 18.3125 54.390625 \r\nQ 18.3125 48.734375 21.84375 45.5625 \r\nQ 25.390625 42.390625 31.78125 42.390625 \r\nQ 38.140625 42.390625 41.71875 45.5625 \r\nQ 45.3125 48.734375 45.3125 54.390625 \r\nQ 45.3125 60.0625 41.71875 63.234375 \r\nQ 38.140625 66.40625 31.78125 66.40625 \r\nQ 25.390625 66.40625 21.84375 63.234375 \r\nQ 18.3125 60.0625 18.3125 54.390625 \r\nz\r\n\" id=\"DejaVuSans-38\"/>\r\n      </defs>\r\n      <g transform=\"translate(212.88401 242.738437)scale(0.1 -0.1)\">\r\n       <use xlink:href=\"#DejaVuSans-38\"/>\r\n      </g>\r\n     </g>\r\n    </g>\r\n    <g id=\"xtick_6\">\r\n     <g id=\"line2d_6\">\r\n      <g>\r\n       <use style=\"stroke:#000000;stroke-width:0.8;\" x=\"259.545779\" xlink:href=\"#m13fcf3867f\" y=\"228.14\"/>\r\n      </g>\r\n     </g>\r\n     <g id=\"text_6\">\r\n      <!-- 10 -->\r\n      <defs>\r\n       <path d=\"M 12.40625 8.296875 \r\nL 28.515625 8.296875 \r\nL 28.515625 63.921875 \r\nL 10.984375 60.40625 \r\nL 10.984375 69.390625 \r\nL 28.421875 72.90625 \r\nL 38.28125 72.90625 \r\nL 38.28125 8.296875 \r\nL 54.390625 8.296875 \r\nL 54.390625 0 \r\nL 12.40625 0 \r\nz\r\n\" id=\"DejaVuSans-31\"/>\r\n      </defs>\r\n      <g transform=\"translate(253.183279 242.738437)scale(0.1 -0.1)\">\r\n       <use xlink:href=\"#DejaVuSans-31\"/>\r\n       <use x=\"63.623047\" xlink:href=\"#DejaVuSans-30\"/>\r\n      </g>\r\n     </g>\r\n    </g>\r\n    <g id=\"xtick_7\">\r\n     <g id=\"line2d_7\">\r\n      <g>\r\n       <use style=\"stroke:#000000;stroke-width:0.8;\" x=\"303.026299\" xlink:href=\"#m13fcf3867f\" y=\"228.14\"/>\r\n      </g>\r\n     </g>\r\n     <g id=\"text_7\">\r\n      <!-- 12 -->\r\n      <g transform=\"translate(296.663799 242.738437)scale(0.1 -0.1)\">\r\n       <use xlink:href=\"#DejaVuSans-31\"/>\r\n       <use x=\"63.623047\" xlink:href=\"#DejaVuSans-32\"/>\r\n      </g>\r\n     </g>\r\n    </g>\r\n    <g id=\"xtick_8\">\r\n     <g id=\"line2d_8\">\r\n      <g>\r\n       <use style=\"stroke:#000000;stroke-width:0.8;\" x=\"346.506818\" xlink:href=\"#m13fcf3867f\" y=\"228.14\"/>\r\n      </g>\r\n     </g>\r\n     <g id=\"text_8\">\r\n      <!-- 14 -->\r\n      <g transform=\"translate(340.144318 242.738437)scale(0.1 -0.1)\">\r\n       <use xlink:href=\"#DejaVuSans-31\"/>\r\n       <use x=\"63.623047\" xlink:href=\"#DejaVuSans-34\"/>\r\n      </g>\r\n     </g>\r\n    </g>\r\n   </g>\r\n   <g id=\"matplotlib.axis_2\">\r\n    <g id=\"ytick_1\">\r\n     <g id=\"line2d_9\">\r\n      <defs>\r\n       <path d=\"M 0 0 \r\nL -3.5 0 \r\n\" id=\"m4df68a294d\" style=\"stroke:#000000;stroke-width:0.8;\"/>\r\n      </defs>\r\n      <g>\r\n       <use style=\"stroke:#000000;stroke-width:0.8;\" x=\"26.925\" xlink:href=\"#m4df68a294d\" y=\"226.549945\"/>\r\n      </g>\r\n     </g>\r\n     <g id=\"text_9\">\r\n      <!-- 0 -->\r\n      <g transform=\"translate(13.5625 230.349164)scale(0.1 -0.1)\">\r\n       <use xlink:href=\"#DejaVuSans-30\"/>\r\n      </g>\r\n     </g>\r\n    </g>\r\n    <g id=\"ytick_2\">\r\n     <g id=\"line2d_10\">\r\n      <g>\r\n       <use style=\"stroke:#000000;stroke-width:0.8;\" x=\"26.925\" xlink:href=\"#m4df68a294d\" y=\"180.750507\"/>\r\n      </g>\r\n     </g>\r\n     <g id=\"text_10\">\r\n      <!-- 5 -->\r\n      <defs>\r\n       <path d=\"M 10.796875 72.90625 \r\nL 49.515625 72.90625 \r\nL 49.515625 64.59375 \r\nL 19.828125 64.59375 \r\nL 19.828125 46.734375 \r\nQ 21.96875 47.46875 24.109375 47.828125 \r\nQ 26.265625 48.1875 28.421875 48.1875 \r\nQ 40.625 48.1875 47.75 41.5 \r\nQ 54.890625 34.8125 54.890625 23.390625 \r\nQ 54.890625 11.625 47.5625 5.09375 \r\nQ 40.234375 -1.421875 26.90625 -1.421875 \r\nQ 22.3125 -1.421875 17.546875 -0.640625 \r\nQ 12.796875 0.140625 7.71875 1.703125 \r\nL 7.71875 11.625 \r\nQ 12.109375 9.234375 16.796875 8.0625 \r\nQ 21.484375 6.890625 26.703125 6.890625 \r\nQ 35.15625 6.890625 40.078125 11.328125 \r\nQ 45.015625 15.765625 45.015625 23.390625 \r\nQ 45.015625 31 40.078125 35.4375 \r\nQ 35.15625 39.890625 26.703125 39.890625 \r\nQ 22.75 39.890625 18.8125 39.015625 \r\nQ 14.890625 38.140625 10.796875 36.28125 \r\nz\r\n\" id=\"DejaVuSans-35\"/>\r\n      </defs>\r\n      <g transform=\"translate(13.5625 184.549726)scale(0.1 -0.1)\">\r\n       <use xlink:href=\"#DejaVuSans-35\"/>\r\n      </g>\r\n     </g>\r\n    </g>\r\n    <g id=\"ytick_3\">\r\n     <g id=\"line2d_11\">\r\n      <g>\r\n       <use style=\"stroke:#000000;stroke-width:0.8;\" x=\"26.925\" xlink:href=\"#m4df68a294d\" y=\"134.951069\"/>\r\n      </g>\r\n     </g>\r\n     <g id=\"text_11\">\r\n      <!-- 10 -->\r\n      <g transform=\"translate(7.2 138.750288)scale(0.1 -0.1)\">\r\n       <use xlink:href=\"#DejaVuSans-31\"/>\r\n       <use x=\"63.623047\" xlink:href=\"#DejaVuSans-30\"/>\r\n      </g>\r\n     </g>\r\n    </g>\r\n    <g id=\"ytick_4\">\r\n     <g id=\"line2d_12\">\r\n      <g>\r\n       <use style=\"stroke:#000000;stroke-width:0.8;\" x=\"26.925\" xlink:href=\"#m4df68a294d\" y=\"89.151631\"/>\r\n      </g>\r\n     </g>\r\n     <g id=\"text_12\">\r\n      <!-- 15 -->\r\n      <g transform=\"translate(7.2 92.95085)scale(0.1 -0.1)\">\r\n       <use xlink:href=\"#DejaVuSans-31\"/>\r\n       <use x=\"63.623047\" xlink:href=\"#DejaVuSans-35\"/>\r\n      </g>\r\n     </g>\r\n    </g>\r\n    <g id=\"ytick_5\">\r\n     <g id=\"line2d_13\">\r\n      <g>\r\n       <use style=\"stroke:#000000;stroke-width:0.8;\" x=\"26.925\" xlink:href=\"#m4df68a294d\" y=\"43.352193\"/>\r\n      </g>\r\n     </g>\r\n     <g id=\"text_13\">\r\n      <!-- 20 -->\r\n      <g transform=\"translate(7.2 47.151412)scale(0.1 -0.1)\">\r\n       <use xlink:href=\"#DejaVuSans-32\"/>\r\n       <use x=\"63.623047\" xlink:href=\"#DejaVuSans-30\"/>\r\n      </g>\r\n     </g>\r\n    </g>\r\n   </g>\r\n   <g id=\"line2d_14\">\r\n    <path clip-path=\"url(#p45990554c3)\" d=\"M 42.143182 20.583636 \r\nL 63.883442 25.149942 \r\nL 85.623701 26.647181 \r\nL 107.363961 27.703435 \r\nL 129.104221 28.37814 \r\nL 150.844481 29.452081 \r\nL 172.58474 30.570834 \r\nL 194.325 31.393921 \r\nL 216.06526 32.339998 \r\nL 237.805519 32.314669 \r\nL 259.545779 33.497917 \r\nL 281.286039 34.615603 \r\nL 303.026299 34.999031 \r\nL 324.766558 35.369834 \r\nL 346.506818 36.434443 \r\n\" style=\"fill:none;stroke:#1f77b4;stroke-linecap:square;stroke-width:1.5;\"/>\r\n   </g>\r\n   <g id=\"line2d_15\">\r\n    <path clip-path=\"url(#p45990554c3)\" d=\"M 42.143182 215.773556 \r\nL 63.883442 216.258444 \r\nL 85.623701 216.568129 \r\nL 107.363961 216.692757 \r\nL 129.104221 216.9084 \r\nL 150.844481 217.113037 \r\nL 172.58474 217.18406 \r\nL 194.325 217.439902 \r\nL 216.06526 217.534408 \r\nL 237.805519 217.602524 \r\nL 259.545779 217.789827 \r\nL 281.286039 217.894019 \r\nL 303.026299 217.950933 \r\nL 324.766558 218.054696 \r\nL 346.506818 218.256364 \r\n\" style=\"fill:none;stroke:#ff7f0e;stroke-linecap:square;stroke-width:1.5;\"/>\r\n   </g>\r\n   <g id=\"patch_3\">\r\n    <path d=\"M 26.925 228.14 \r\nL 26.925 10.7 \r\n\" style=\"fill:none;stroke:#000000;stroke-linecap:square;stroke-linejoin:miter;stroke-width:0.8;\"/>\r\n   </g>\r\n   <g id=\"patch_4\">\r\n    <path d=\"M 361.725 228.14 \r\nL 361.725 10.7 \r\n\" style=\"fill:none;stroke:#000000;stroke-linecap:square;stroke-linejoin:miter;stroke-width:0.8;\"/>\r\n   </g>\r\n   <g id=\"patch_5\">\r\n    <path d=\"M 26.925 228.14 \r\nL 361.725 228.14 \r\n\" style=\"fill:none;stroke:#000000;stroke-linecap:square;stroke-linejoin:miter;stroke-width:0.8;\"/>\r\n   </g>\r\n   <g id=\"patch_6\">\r\n    <path d=\"M 26.925 10.7 \r\nL 361.725 10.7 \r\n\" style=\"fill:none;stroke:#000000;stroke-linecap:square;stroke-linejoin:miter;stroke-width:0.8;\"/>\r\n   </g>\r\n  </g>\r\n </g>\r\n <defs>\r\n  <clipPath id=\"p45990554c3\">\r\n   <rect height=\"217.44\" width=\"334.8\" x=\"26.925\" y=\"10.7\"/>\r\n  </clipPath>\r\n </defs>\r\n</svg>\r\n",
      "text/plain": "<matplotlib.figure.Figure at 0x21b05c0ed68>"
     },
     "metadata": {},
     "output_type": "display_data"
    }
   ],
   "source": [
    "plt.figure()\n",
    "plt.plot(history.history['loss'], label='loss')\n",
    "plt.plot(history.history['val_loss'], label='val_loss')"
   ]
  },
  {
   "cell_type": "code",
   "execution_count": 73,
   "metadata": {},
   "outputs": [
    {
     "name": "stdout",
     "output_type": "stream",
     "text": "(214200, 1)\n"
    }
   ],
   "source": [
    "# creating submission file \n",
    "submission_pfs = my_model.predict(x_test)\n",
    "# submission_pfs = dataset.values[:,-1:].mean(1)\n",
    "print(submission_pfs.shape)"
   ]
  },
  {
   "cell_type": "code",
   "execution_count": 74,
   "metadata": {},
   "outputs": [],
   "source": [
    "# print(submission_pfs.shape, maxcnts.shape)\n",
    "# submission_pfs = submission_pfs.ravel()*maxcnts\n",
    "# we will keep every value between 0 and 20\n",
    "submission_pfs = submission_pfs.clip(0,20)\n",
    "# creating dataframe with required columns\n",
    "submission = pd.DataFrame({'ID':test_data['ID'],'item_cnt_month':submission_pfs.ravel()})\n",
    "# creating csv file from dataframe\n",
    "submission.to_csv('sub_maxcnt.csv',index = False)"
   ]
  },
  {
   "cell_type": "code",
   "execution_count": null,
   "metadata": {},
   "outputs": [],
   "source": []
  }
 ],
 "metadata": {
  "kernelspec": {
   "display_name": "Python 3",
   "language": "python",
   "name": "python3"
  },
  "language_info": {
   "codemirror_mode": {
    "name": "ipython",
    "version": 3
   },
   "file_extension": ".py",
   "mimetype": "text/x-python",
   "name": "python",
   "nbconvert_exporter": "python",
   "pygments_lexer": "ipython3",
   "version": "3.6.4"
  }
 },
 "nbformat": 4,
 "nbformat_minor": 2
}